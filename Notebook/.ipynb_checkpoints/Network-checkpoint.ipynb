version https://git-lfs.github.com/spec/v1
oid sha256:08152387b4a23bf8f87c877066069ddd5d8821a69e6160d82b6701b149d5b2c4
size 21988713
